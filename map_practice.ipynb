{
 "cells": [
  {
   "cell_type": "markdown",
   "id": "ba460396-b270-40cf-82c1-9b6135d8ba5a",
   "metadata": {},
   "source": [
    "## Week 7 Live Demo\n",
    "Follow along in class to get plotting practice!"
   ]
  },
  {
   "cell_type": "markdown",
   "id": "c838f387-e5b6-4805-acc7-04227f52b08f",
   "metadata": {},
   "source": [
    "# NOAA's Extended Reconstructed Sea Surface Temperature (ERSST) \n",
    "\n",
    "Today we will plot monthly sea surface temperature anomaly (SSTA) maps from July 1945 and July 2022. SSTA measures the temperature anomalies with respect to average climatology from 1971— 2000. \n",
    "\n",
    "![ERSST Map](https://podaac.jpl.nasa.gov/sites/default/files/image/images/sst%20in%20ersst.v4.187112.jpg)\n",
    "\n",
    "These temperature data are stored in two netCDF files in this folder."
   ]
  },
  {
   "cell_type": "markdown",
   "id": "4f21c956-6f6f-48af-8e75-b606d5ab4733",
   "metadata": {},
   "source": [
    "# Loading the data\n",
    "1. First, access the [dataset](https://www.ncei.noaa.gov/products/extended-reconstructed-sst) and locate the files we need.\n",
    "2. Run starter code to grab URLs without downloading\n",
    "- If the starter code cell below is taking way too long to run, go ahead and download the files you need from the dataset link and load them into your JupyterHub to access them! \n",
    "3. Display DataSets."
   ]
  },
  {
   "cell_type": "code",
   "execution_count": 1,
   "id": "52e4ef7a-884d-4ce1-b9ae-a1928211e773",
   "metadata": {
    "tags": []
   },
   "outputs": [],
   "source": [
    "## Starter code: run this to get your data from the NCEI database\n",
    "# import packages and necessary classes\n",
    "import requests\n",
    "from netCDF4 import Dataset\n",
    "import xarray as xr\n",
    "\n",
    "# helper function to grab data from NCEI and convert to xarray\n",
    "def get_data(url):\n",
    "    link = Dataset(url)\n",
    "    return(xr.open_dataset(xr.backends.NetCDF4DataStore(link)))\n",
    "\n",
    "# grab dataset from July 1945 and 2023\n",
    "sst_1945=get_data('https://www.ncei.noaa.gov/pub/data/cmb/ersst/v5/netcdf/ersst.v5.194507.nc#mode=bytes')\n",
    "sst_2023=get_data('https://www.ncei.noaa.gov/pub/data/cmb/ersst/v5/netcdf/ersst.v5.202307.nc#mode=bytes')"
   ]
  },
  {
   "cell_type": "code",
   "execution_count": null,
   "id": "ca58f413-6b6e-4b17-b48f-593d630668d7",
   "metadata": {},
   "outputs": [],
   "source": [
    "..."
   ]
  },
  {
   "cell_type": "markdown",
   "id": "a42977a3-f1bb-41b4-ac35-b6c7b6e8e4d8",
   "metadata": {},
   "source": [
    "## For each DataSet:\n",
    "1. What are the dimensions of the DataSet? \n",
    "\n",
    "2. Get the longitude and latitude values from the DataSet. \n",
    "\n",
    "3. Index the SSTA variables to get a 2-D arrays for plotting."
   ]
  },
  {
   "cell_type": "code",
   "execution_count": null,
   "id": "707457a3-c326-44f9-b357-32a9f88b2dae",
   "metadata": {},
   "outputs": [],
   "source": [
    "..."
   ]
  },
  {
   "cell_type": "markdown",
   "id": "6a736671-3ef8-4aea-9b62-39ae67f96fa4",
   "metadata": {},
   "source": [
    "## Let's make basic global maps of SSTA.\n",
    "\n",
    "1) Set PlateCarree projection.\n",
    "\n",
    "2) Add coastlines.\n",
    "\n",
    "3) Plot SST using pcolormesh.\n",
    "\n",
    "4) Add a colorbar."
   ]
  },
  {
   "cell_type": "code",
   "execution_count": null,
   "id": "a0621de3-e5d3-4768-b641-d6abc7eed99e",
   "metadata": {
    "tags": []
   },
   "outputs": [],
   "source": [
    "..."
   ]
  },
  {
   "cell_type": "markdown",
   "id": "db88e7a5-37b8-4856-8891-6496c704a778",
   "metadata": {
    "tags": []
   },
   "source": [
    "## Discussion: How can we make these maps better?"
   ]
  },
  {
   "cell_type": "markdown",
   "id": "fe5d5715-87df-483d-90a0-247cad6191ad",
   "metadata": {
    "tags": []
   },
   "source": [
    "-\n",
    "-"
   ]
  },
  {
   "cell_type": "markdown",
   "id": "2d1e1b4c-33c9-43e3-9df0-750df849f170",
   "metadata": {},
   "source": [
    "## Let's make *better* global maps of SSTA.\n",
    "1) Set a better global projection.\n",
    "\n",
    "2) Add land features.\n",
    "\n",
    "3) Plot SST using pcolormesh. Set the same colormap limits for each map (named arguments *vmin* and *vmax*). Use a different colormap.\n",
    "\n",
    "4) Bonus: Add latitude and longitude gridlines."
   ]
  },
  {
   "cell_type": "code",
   "execution_count": null,
   "id": "34dd43e2-affb-4c9f-b1b9-5f376727776b",
   "metadata": {
    "tags": []
   },
   "outputs": [],
   "source": [
    "..."
   ]
  }
 ],
 "metadata": {
  "kernelspec": {
   "display_name": "Python 3 (ipykernel)",
   "language": "python",
   "name": "python3"
  },
  "language_info": {
   "codemirror_mode": {
    "name": "ipython",
    "version": 3
   },
   "file_extension": ".py",
   "mimetype": "text/x-python",
   "name": "python",
   "nbconvert_exporter": "python",
   "pygments_lexer": "ipython3",
   "version": "3.10.10"
  }
 },
 "nbformat": 4,
 "nbformat_minor": 5
}
